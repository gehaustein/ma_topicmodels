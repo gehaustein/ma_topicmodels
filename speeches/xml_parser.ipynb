{
 "cells": [
  {
   "cell_type": "code",
   "execution_count": null,
   "metadata": {},
   "outputs": [],
   "source": [
    "import pandas as pd \n",
    "import xml.etree.ElementTree as et \n",
    "import os\n",
    "from IPython.display import clear_output"
   ]
  },
  {
   "cell_type": "code",
   "execution_count": null,
   "metadata": {},
   "outputs": [],
   "source": [
    "infile_list = [f for f in os.listdir(\"speeches_xml\") if not f.startswith('.')]\n",
    "\n",
    "len(infile_list)"
   ]
  },
  {
   "cell_type": "code",
   "execution_count": null,
   "metadata": {},
   "outputs": [],
   "source": [
    "main_df = pd.DataFrame()\n",
    "\n",
    "count = 1 \n",
    "end_count = len(infile_list)\n",
    "\n",
    "for infile in infile_list:\n",
    "    print(str(count) + '/' + str(end_count))\n",
    "    count += 1\n",
    "    \n",
    "    tree = et.parse('speeches_xml/' + infile)\n",
    "    root = tree.getroot()\n",
    "    \n",
    "    df_cols = [\"date\", \"section_id\", \"section_title\", \"intervention_id\", \"speaker_id\", \"is_mep\", \"mode\", \"role\", \"language\", \"text\"]\n",
    "    rows = []\n",
    "\n",
    "    date = root.attrib.get(\"date\")\n",
    "\n",
    "    for section in root:\n",
    "        section_id = section.attrib.get(\"id\")\n",
    "        section_title = section.attrib.get(\"title\")\n",
    "        \n",
    "        for intervention in section:\n",
    "            intervention_id = intervention.attrib.get(\"id\")\n",
    "            speaker_id = intervention.attrib.get(\"speaker_id\")\n",
    "            is_mep = intervention.attrib.get(\"is_mep\")\n",
    "            mode = intervention.attrib.get(\"mode\")\n",
    "            role = intervention.attrib.get(\"role\")\n",
    "            text = \"\"\n",
    "                        \n",
    "            for paragraph in intervention.iter(\"p\"):\n",
    "                language = paragraph.attrib.get(\"sl\")\n",
    "                paragraph_text = paragraph.text\n",
    "                text = text + str(paragraph_text)\n",
    "            \n",
    "            rows.append({\"date\": date,\n",
    "                        \"section_id\": section_id, \n",
    "                        \"section_title\": section_title, \n",
    "                        \"intervention_id\": intervention_id, \n",
    "                        \"speaker_id\": speaker_id, \n",
    "                        \"is_mep\": is_mep, \n",
    "                        \"mode\": mode, \n",
    "                        \"role\": role, \n",
    "                        \"language\": language, \n",
    "                        \"text\": text})\n",
    "\n",
    "    out_df = pd.DataFrame(rows, columns = df_cols)\n",
    "\n",
    "    main_df = main_df.append(out_df, ignore_index=True)\n",
    "\n",
    "main_df"
   ]
  },
  {
   "cell_type": "code",
   "execution_count": null,
   "metadata": {},
   "outputs": [],
   "source": [
    "main_df"
   ]
  },
  {
   "cell_type": "code",
   "execution_count": null,
   "metadata": {},
   "outputs": [],
   "source": [
    "main_df.to_csv(\"../dataset/speeches_by_speech.csv\")"
   ]
  }
 ],
 "metadata": {
  "interpreter": {
   "hash": "d99cafe4c174b2b44bd35f69a9f9f4db6ae957380b95445e310397cf4491890f"
  },
  "kernelspec": {
   "display_name": "Python 3.8.12 ('ma_condaenv')",
   "language": "python",
   "name": "python3"
  },
  "language_info": {
   "codemirror_mode": {
    "name": "ipython",
    "version": 3
   },
   "file_extension": ".py",
   "mimetype": "text/x-python",
   "name": "python",
   "nbconvert_exporter": "python",
   "pygments_lexer": "ipython3",
   "version": "3.8.13"
  },
  "orig_nbformat": 4
 },
 "nbformat": 4,
 "nbformat_minor": 2
}
