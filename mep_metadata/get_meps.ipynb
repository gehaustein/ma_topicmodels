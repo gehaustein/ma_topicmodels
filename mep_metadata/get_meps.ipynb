{
 "cells": [
  {
   "cell_type": "code",
   "execution_count": null,
   "metadata": {},
   "outputs": [],
   "source": [
    "import requests\n",
    "import xml.etree.ElementTree as ET\n",
    "import pandas as pd\n",
    "from IPython.display import clear_output\n",
    "from lxml import html\n",
    "from datetime import datetime\n",
    "import time\n",
    "from tqdm import tqdm\n",
    "import numpy as np"
   ]
  },
  {
   "cell_type": "code",
   "execution_count": null,
   "metadata": {},
   "outputs": [],
   "source": [
    "# Retrieve XML driectory from EP website\n",
    "id_url = \"https://www.europarl.europa.eu/meps/en/directory/xml?letter=&leg=\"\n",
    "\n",
    "response = requests.get(id_url)\n",
    "\n",
    "with open ('mep_ids.xml', 'wb') as file:\n",
    "    file.write(response.content)"
   ]
  },
  {
   "cell_type": "code",
   "execution_count": null,
   "metadata": {},
   "outputs": [],
   "source": [
    "tree = ET.parse('mep_ids.xml')\n",
    "root = tree.getroot()"
   ]
  },
  {
   "cell_type": "code",
   "execution_count": null,
   "metadata": {},
   "outputs": [],
   "source": [
    "id_l = []\n",
    "\n",
    "name_l = []\n",
    "\n",
    "for name in root.iter('fullName'):\n",
    "    name_l.append(name.text)\n",
    "\n",
    "for id in root.iter('id'):\n",
    "    id_l.append(id.text)\n",
    "\n",
    "id_list = [list(l) for l in zip(name_l, id_l)]"
   ]
  },
  {
   "cell_type": "code",
   "execution_count": null,
   "metadata": {},
   "outputs": [],
   "source": [
    "# Crawl EP website based on XML directory\n",
    "base_url = 'https://www.europarl.europa.eu/meps/en/'\n",
    "\n",
    "df = pd.DataFrame()\n",
    "\n",
    "for id in tqdm(id_list):\n",
    "    url = base_url + id[1] + '/a/history/'\n",
    "    r = requests.get(url)\n",
    "    tree = html.fromstring(r.content)\n",
    "\n",
    "    mep_id = id[1]\n",
    "    full_name = id[0]\n",
    "    political_group = tree.xpath('//*[@id=\"status\"]/div/div[1]/ul/li[1]/text()')\n",
    "    national_party = tree.xpath('//*[@id=\"status\"]/div/div[2]/ul/li[1]/text()')\n",
    "    nationality = tree.xpath(\"/html/body/main/div/div/div[2]/div/div/div[2]\")[0].text.strip()\n",
    "    date_of_birth = [x.strip() for x in tree.xpath('//*[@class=\"sln-birth-date\"]/text()')]\n",
    "\n",
    "    temp = pd.DataFrame()\n",
    "    temp['mep_id'] = [mep_id]\n",
    "    temp['full_name'] = [full_name]\n",
    "    if (bool(political_group) == True): temp['political_group'] = political_group\n",
    "    if (bool(national_party) == True): temp['national_party'] = national_party\n",
    "    if (bool(nationality) == True): temp['nationality'] = nationality\n",
    "    if (bool(date_of_birth) == True): temp['date_of_birth'] = date_of_birth\n",
    "\n",
    "    df = pd.concat([df, temp], ignore_index=True)\n",
    "\n",
    "    # if (count % 10 == 0): \n",
    "    #     print(\"Pausing for 10 seconds\")\n",
    "    #     time.sleep(10)\n",
    "    \n",
    "df"
   ]
  },
  {
   "cell_type": "code",
   "execution_count": null,
   "metadata": {},
   "outputs": [],
   "source": [
    "df[\"nationality\"].value_counts(dropna=False)"
   ]
  },
  {
   "cell_type": "code",
   "execution_count": null,
   "metadata": {},
   "outputs": [],
   "source": [
    "df.to_csv(\"mep_raw.csv\")"
   ]
  },
  {
   "cell_type": "code",
   "execution_count": null,
   "metadata": {},
   "outputs": [],
   "source": [
    "# df = pd.read_csv(\"mep_raw.csv\", index_col=0)"
   ]
  },
  {
   "cell_type": "code",
   "execution_count": null,
   "metadata": {},
   "outputs": [],
   "source": [
    "# Data cleaning\n",
    "def clean_political_group(text):\n",
    "    sep_1 = ': '\n",
    "    sep_2 = ' -'\n",
    "    political_group = text.split(sep_1, 1)[1]\n",
    "    political_group = political_group.split(sep_2, 1)[0]\n",
    "    return political_group\n",
    "\n",
    "def get_nationality(text):\n",
    "    sep_1 = '('\n",
    "    sep_2 = ')'\n",
    "    nationality = text.split(sep_1, 1)[1]\n",
    "    nationality = nationality.split(sep_2, 1)[0]\n",
    "    return nationality\n",
    "\n",
    "def clean_national_party(text):\n",
    "    sep_1 = ': '\n",
    "    sep_2 = ' ('\n",
    "    national_party = text.split(sep_1, 1)[1]\n",
    "    national_party = national_party.split(sep_2, 1)[0]\n",
    "    return national_party"
   ]
  },
  {
   "cell_type": "code",
   "execution_count": null,
   "metadata": {},
   "outputs": [],
   "source": [
    "clean_data = df.copy()\n",
    "\n",
    "clean_data = clean_data[clean_data[\"political_group\"].notna()]\n",
    "\n",
    "clean_data = clean_data[clean_data[\"national_party\"].str.contains(\"\\(\")]\n",
    "\n",
    "clean_data['political_group'] = clean_data['political_group'].apply(clean_political_group)\n",
    "\n",
    "mask = (clean_data[\"nationality\"].isnull())\n",
    "\n",
    "clean_data.loc[mask, \"nationality\"] = clean_data.loc[mask, \"national_party\"].apply(get_nationality)\n",
    "\n",
    "clean_data['national_party'] = clean_data['national_party'].apply(clean_national_party)\n",
    "\n",
    "clean_data"
   ]
  },
  {
   "cell_type": "code",
   "execution_count": null,
   "metadata": {},
   "outputs": [],
   "source": [
    "clean_data[\"nationality\"].value_counts(dropna=False)"
   ]
  },
  {
   "cell_type": "code",
   "execution_count": null,
   "metadata": {},
   "outputs": [],
   "source": [
    "clean_data.to_csv(\"../dataset/mep_clean.csv\")"
   ]
  }
 ],
 "metadata": {
  "interpreter": {
   "hash": "d99cafe4c174b2b44bd35f69a9f9f4db6ae957380b95445e310397cf4491890f"
  },
  "kernelspec": {
   "display_name": "Python 3.8.12 64-bit ('ma_condaenv': conda)",
   "language": "python",
   "name": "python3"
  },
  "language_info": {
   "codemirror_mode": {
    "name": "ipython",
    "version": 3
   },
   "file_extension": ".py",
   "mimetype": "text/x-python",
   "name": "python",
   "nbconvert_exporter": "python",
   "pygments_lexer": "ipython3",
   "version": "3.8.13"
  },
  "orig_nbformat": 4
 },
 "nbformat": 4,
 "nbformat_minor": 2
}
